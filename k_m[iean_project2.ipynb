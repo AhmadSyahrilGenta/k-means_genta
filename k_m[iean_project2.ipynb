{
  "nbformat": 4,
  "nbformat_minor": 0,
  "metadata": {
    "colab": {
      "private_outputs": true,
      "provenance": []
    },
    "kernelspec": {
      "name": "python3",
      "display_name": "Python 3"
    },
    "language_info": {
      "name": "python"
    }
  },
  "cells": [
    {
      "cell_type": "code",
      "execution_count": null,
      "metadata": {
        "id": "sDKb9xU9J-vW"
      },
      "outputs": [],
      "source": [
        "import pandas as pd\n",
        "import numpy as np\n",
        "import matplotlib.pyplot as plt\n",
        "from sklearn.model_selection import train_test_split\n",
        "from sklearn.cluster import KMeans\n",
        "from sklearn.metrics import accuracy_score, confusion_matrix\n",
        "import warnings\n",
        "warnings.filterwarnings(\"ignore\")"
      ]
    },
    {
      "cell_type": "code",
      "source": [
        "from google.colab import drive\n",
        "drive.mount('/content/drive')"
      ],
      "metadata": {
        "id": "kdBR2JQqLsYI"
      },
      "execution_count": null,
      "outputs": []
    },
    {
      "cell_type": "code",
      "source": [
        "from os import path\n",
        "path = '/content/drive/MyDrive/Colab Notebooks/csv/Shopping_CustomerData (1).csv'\n",
        "df = pd.read_csv(path)\n",
        "\n",
        "df.describe()"
      ],
      "metadata": {
        "id": "zTDG3PL6M1AD"
      },
      "execution_count": null,
      "outputs": []
    },
    {
      "cell_type": "code",
      "source": [
        "df_new = df[[\"CustomerAge\",\"SpendingScore\"]] #Menslicing data yang akan di analisis\n",
        "df_new.head"
      ],
      "metadata": {
        "id": "0I78QPIMN0N7"
      },
      "execution_count": null,
      "outputs": []
    },
    {
      "cell_type": "code",
      "source": [
        "df_new.describe()"
      ],
      "metadata": {
        "id": "dRHcXAaeOVQG"
      },
      "execution_count": null,
      "outputs": []
    },
    {
      "cell_type": "code",
      "source": [
        "df_new.isnull().sum() #Mencari apakah ada data yang NULL"
      ],
      "metadata": {
        "id": "idL9iG06OdNg"
      },
      "execution_count": null,
      "outputs": []
    },
    {
      "cell_type": "code",
      "source": [
        "df.plot(kind='scatter', x='CustomerAge', y='SpendingScore')\n",
        "#plt.scatter(df_new.iloc[:,0, df_new.iloc[:,1])\n",
        "plt.xlabel('Usia Pembeli')\n",
        "plt.ylabel('Pendapatan Skor')\n",
        "plt.title('Uclustering data')\n",
        "plt.show()"
      ],
      "metadata": {
        "id": "CLyZ4BzLOtd0"
      },
      "execution_count": null,
      "outputs": []
    },
    {
      "cell_type": "code",
      "source": [
        "#Step-1\n",
        "k = 3 #Asumsikan kita akan mencari 3 cluster\n",
        "np.random.seed(40)\n",
        "\n",
        "#disini kita akan mendapatkan 3 point random centroid\n",
        "random_centroids=[]\n",
        "for i in range(1,k+1):\n",
        "  random_centroids.append([np.random.randint(1,100), np.random.randint(1,100)])\n",
        "print('Randomly selected points as random_centroids:', random_centroids)"
      ],
      "metadata": {
        "id": "Wkc3zl7UPZ2y"
      },
      "execution_count": null,
      "outputs": []
    },
    {
      "cell_type": "code",
      "source": [
        "#PLOTTING RANDOM CENTROID TIAP SEGMEN\n",
        "plt.figure(figsize=(5, 5))\n",
        "plt.scatter(df_new.iloc[:,0], df_new.iloc[:,1], color='cyan')\n",
        "length = len(random_centroids)\n",
        "colors1=['r','g','b','cyan','yellow','black']\n",
        "for i in range(length):\n",
        "  plt.scatter(*random_centroids[i],color=colors1[i])\n",
        "plt.xlabel('CustomerAge')\n",
        "plt.ylabel('SpendingScore')\n",
        "plt.show()"
      ],
      "metadata": {
        "id": "COKcqhv0Rvok"
      },
      "execution_count": null,
      "outputs": []
    },
    {
      "cell_type": "code",
      "source": [
        "#Langkah kedua \n",
        "#MENGHITUNG JARAK TITIK CENTROID DAN MERUBAH JARAK SEHINGGA MENJADI SEMAKIN AKURAT\n",
        "def assignment(df_new,random_centroids):\n",
        "\n",
        "  for i in range(length) :\n",
        "    df_new['Distance from Centroid {}'.format(i)]=(np.sqrt((df_new.iloc[:,0] - random_centroids[i][0]) ** 2 + (df_new.iloc[:,1] - random_centroids[i][1]) ** 2))\n",
        "\n",
        "  list1=[]\n",
        "  list2=[]\n",
        "  for a,b,c in zip(df_new['Distance from Centroid 0'],df_new['Distance from Centroid 1'],df_new['Distance from Centroid 2']):\n",
        "    d = min(a,b,c)\n",
        "\n",
        "    if d == a:\n",
        "      list1.append(0)\n",
        "      list2.append('r')\n",
        "    elif d == b:\n",
        "      list1.append(1)\n",
        "      list2.append('g')\n",
        "    else:\n",
        "      list1.append(2)\n",
        "      list2.append('b')\n",
        "  df_new['Closest_Centroid'] = list1\n",
        "  df_new['Color']=list2\n",
        "  return df_new\n"
      ],
      "metadata": {
        "id": "CyWCenF5VhIv"
      },
      "execution_count": null,
      "outputs": []
    },
    {
      "cell_type": "code",
      "source": [
        "df_new = assignment(df_new,random_centroids)\n",
        "df_new.head()\n"
      ],
      "metadata": {
        "id": "UkbCXiVwgCES"
      },
      "execution_count": null,
      "outputs": []
    },
    {
      "cell_type": "code",
      "source": [
        "#Penempatan Cluster\n",
        "plt.figure(figsize=(5,5))\n",
        "plt.scatter(df_new.iloc[:,0],df_new.iloc[:,1],color =df_new['Color'],alpha = 0.5,edgecolor = 'K')\n",
        "for i in range(length):\n",
        "  plt.scatter(*random_centroids[i],color=colors1[i])"
      ],
      "metadata": {
        "id": "ed9rYSml_jic"
      },
      "execution_count": null,
      "outputs": []
    },
    {
      "cell_type": "code",
      "source": [
        "#Step-3\n",
        "#UPDATE DATA\n",
        "#UPDATE CENTROID KEPADA TITIK YANG BARU\n",
        "#Update Stage\n",
        "def update(parameter):\n",
        "  for i in range(length):\n",
        "    random_centroids[i][0] = np.mean(df_new[df_new['Closest_Centroid'] == i]['CustomerAge'])\n",
        "    random_centroids[i][1] = np.mean(df_new[df_new['Closest_Centroid'] == i]['SpendingScore'])\n",
        "  return parameter\n"
      ],
      "metadata": {
        "id": "Z_GGVcnnHuzz"
      },
      "execution_count": null,
      "outputs": []
    },
    {
      "cell_type": "code",
      "source": [
        "random_centroids = update(random_centroids)\n",
        "random_centroids"
      ],
      "metadata": {
        "id": "sPmtBb7tJIXJ"
      },
      "execution_count": null,
      "outputs": []
    },
    {
      "cell_type": "code",
      "source": [
        "#step last\n",
        "#mencari titik centroid paling tepat\n",
        "df_new = assignment(df_new, random_centroids)\n",
        "df_new.head()\n",
        "plt.figure(figsize=(5, 5))\n",
        "plt.scatter(df_new.iloc[:,0], df_new.iloc[:,1], color=df_new['Color'], alpha=0.5, edgecolor='k')\n",
        "for i in range(length):\n",
        "  plt.scatter(*random_centroids[i], color=colors1[i])\n",
        "plt.show()\n"
      ],
      "metadata": {
        "id": "IooFWdrJJV5r"
      },
      "execution_count": null,
      "outputs": []
    },
    {
      "cell_type": "code",
      "source": [
        "#Step-4\n",
        "#update centroid sampai perhitungan mean berhenti\n",
        "\n",
        "count=1\n",
        "while True:\n",
        "  old_random_centroids = np.round(random_centroids)\n",
        "  print('Old Centroid',old_random_centroids)\n",
        "  count+=1\n",
        "  random_centroids = update(random_centroids)\n",
        "\n",
        "  new_random_centroids = np.round(random_centroids)\n",
        "  print('New Centroid',new_random_centroids)\n",
        "\n",
        "  df_new = assignment(df_new, random_centroids)\n",
        "  result=np.allclose(old_random_centroids,new_random_centroids)\n",
        "  print(result)\n",
        "  if result == True:\n",
        "    break\n",
        "  \n",
        "\n",
        "  print(count)"
      ],
      "metadata": {
        "id": "oh_ktHw9MaYY"
      },
      "execution_count": null,
      "outputs": []
    },
    {
      "cell_type": "code",
      "source": [
        "plt.figure(figsize=(5, 5))\n",
        "plt.scatter(df_new.iloc[:,0], df_new.iloc[:,1], color=df_new['Color'], alpha=0.5, edgecolor='k')\n",
        "plt.show()"
      ],
      "metadata": {
        "id": "7sBiyy-fO3V5"
      },
      "execution_count": null,
      "outputs": []
    },
    {
      "cell_type": "code",
      "source": [
        "#membaca 2 features\n",
        "df = df[[\"CustomerAge\",\"SpendingScore\"]]\n",
        "df.head()"
      ],
      "metadata": {
        "id": "zbHvI8aKPuTL"
      },
      "execution_count": null,
      "outputs": []
    },
    {
      "cell_type": "code",
      "source": [
        "#asumsi nilai K\n",
        "kmeans = KMeans(n_clusters=3)#Membuat Objek K-means\n",
        "kmeans.fit(df)#Fitting the Model"
      ],
      "metadata": {
        "id": "BDYUHayRQC9P"
      },
      "execution_count": null,
      "outputs": []
    },
    {
      "cell_type": "code",
      "source": [
        "#generate label tiap point\n",
        "labels = kmeans.predict(df)\n",
        "labels"
      ],
      "metadata": {
        "id": "yOjI8T1bQZlm"
      },
      "execution_count": null,
      "outputs": []
    },
    {
      "cell_type": "code",
      "source": [
        "#menampilkan data centroid tiap cluster\n",
        "centroids = kmeans.cluster_centers_\n",
        "centroids"
      ],
      "metadata": {
        "id": "ASGhuGuXQkaD"
      },
      "execution_count": null,
      "outputs": []
    },
    {
      "cell_type": "code",
      "source": [
        "#melihat inersia k-means\n",
        "kmeans.inertia_"
      ],
      "metadata": {
        "id": "LjzlnZsMQyNn"
      },
      "execution_count": null,
      "outputs": []
    },
    {
      "cell_type": "code",
      "source": [
        "plt.figure(figsize=(10, 5))\n",
        "colmap = {1:'y',2:'g',3:'b',4:'r',5:'c'} #penentuan warna plot\n",
        "colors = map(lambda x: colmap[x+1], labels)\n",
        "print(colors)\n",
        "colors1=list(colors)\n",
        "plt.scatter(df['CustomerAge'], df['SpendingScore'], color=colors1, alpha=0.5)\n",
        "for idx, centroid in enumerate(centroids):\n",
        "  plt.scatter(*centroid, color=colmap[idx+1])\n",
        "plt.xlabel('Usia')\n",
        "plt.ylabel('Pendapatan Skor')\n",
        "plt.title('Plot ter-clusterisasi K-Means')\n",
        "plt.show()"
      ],
      "metadata": {
        "id": "WSAL74PEQ4My"
      },
      "execution_count": null,
      "outputs": []
    },
    {
      "cell_type": "code",
      "source": [
        "inertia_list = []\n",
        "for num_clusters in np.arange(1, 21):\n",
        "  kmeans =KMeans(n_clusters=num_clusters)\n",
        "  kmeans.fit(df)\n",
        "  inertia_list.append(kmeans.inertia_)"
      ],
      "metadata": {
        "id": "notn11zNSocQ"
      },
      "execution_count": null,
      "outputs": []
    },
    {
      "cell_type": "code",
      "source": [
        "inertia_list"
      ],
      "metadata": {
        "id": "CrgDsxvlToQn"
      },
      "execution_count": null,
      "outputs": []
    },
    {
      "cell_type": "code",
      "source": [
        "#Plotting menggunakan elbow curve\n",
        "plt.figure(figsize=(10, 5))\n",
        "plt.plot(np.arange(1, 21), inertia_list, color='blue')\n",
        "plt.scatter(np.arange(1, 21), inertia_list, color='red')\n",
        "plt.grid(True)\n",
        "plt.xlabel('Nilai dari k')\n",
        "plt.ylabel('Nilai Inertia')\n",
        "plt.title('Elbow Curve')\n",
        "plt.show()"
      ],
      "metadata": {
        "id": "iBuJWh8ZTrNl"
      },
      "execution_count": null,
      "outputs": []
    }
  ]
}